{
  "cells": [
    {
      "cell_type": "markdown",
      "metadata": {
        "id": "view-in-github",
        "colab_type": "text"
      },
      "source": [
        "<a href=\"https://colab.research.google.com/github/pnir7/510Programming-For-Digital-And-Physical-User-Interfaces/blob/week_1/lab1_Chatbot.ipynb\" target=\"_parent\"><img src=\"https://colab.research.google.com/assets/colab-badge.svg\" alt=\"Open In Colab\"/></a>"
      ]
    },
    {
      "cell_type": "markdown",
      "metadata": {
        "id": "uKrS3v71JFUh"
      },
      "source": [
        "## Lab 1: Create Your Own Chatbot"
      ]
    },
    {
      "cell_type": "markdown",
      "metadata": {
        "id": "5ZIOP1W2JDFJ"
      },
      "source": [
        "###  Step 1: Barebones Interactive Chatbot\n",
        "You will first create a simple interactive loop between user input and program output. Before entering the loop, your program should prompt the user to request their input (e.g. \"Hi, how can I help you?\"). At each iteration of the loop, the program should take user input (typed onto the terminal pressing 'Enter' at the end) and then output simple statistical information about that input (e.g. \"You entered X letters and Y words\"). Also add a way to exit the loop; for example, if the user types \"Bye\" the loop should end and your program should halt after a final prompt to the user to acknowledge that the interaction has ended. Add your code below."
      ]
    },
    {
      "cell_type": "code",
      "execution_count": null,
      "metadata": {
        "colab": {
          "base_uri": "https://localhost:8080/"
        },
        "id": "ib6DEQUPGob_",
        "outputId": "5c537726-1cda-4e1e-a94c-606d66095e59"
      },
      "outputs": [
        {
          "name": "stdout",
          "output_type": "stream",
          "text": [
            "Hi, how can I help you? If you want to exit, input\"BYE\"bye\n",
            "Goodbye!\n"
          ]
        }
      ],
      "source": [
        "while True:\n",
        "    user_input = input(\"Hi, how can I help you? If you want to exit, input\\\"BYE\\\"\")\n",
        "    if user_input.lower() == \"bye\":\n",
        "        print(\"Goodbye!\")\n",
        "        break\n",
        "    else:\n",
        "        num_letters = len(user_input)\n",
        "        num_words = len(user_input.split())\n",
        "        print(\"You entered {} letters and {} words.\".format(num_letters, num_words))\n"
      ]
    },
    {
      "cell_type": "code",
      "execution_count": null,
      "metadata": {
        "id": "CweA4EBWIqP8"
      },
      "outputs": [],
      "source": []
    },
    {
      "cell_type": "markdown",
      "metadata": {
        "id": "vZMtlz5QJLZF"
      },
      "source": [
        "### Step 2: Simple ListenBot\n",
        "\n",
        "Next you will upgrade your chatbot to be a \"good listener.\" Do not worry about deleting or overwriting things you did in the previous step. Before entering into the interactive loop, your chatbot should ask the user's name and remember it throughout the chat. It should also prompt the user to talk about something (e.g. \"How was your day, Ashitaka?\") As part of the loop, the chatbot should analyze the user's input and decide whether to give a positive, negative, or neutral response. To analyze the input, we have supplied a fixed list of [positive](http://ptrckprry.com/course/ssd/data/positive-words.txt) and [negative](http://ptrckprry.com/course/ssd/data/negative-words.txt) words and which will determine the number of positive and negative words that occur in the user's input. For the most simple version of the `ListenBot`, your list of positive and negative words do not have to be too long, just enough to showcase a simple conversation. However, the lists we supply will make your `ListenBot` more robust. \n",
        "\n",
        "The chatbot should respond based on the number of positive and negative words in the user's input. Your chatbot should have at least two different responses of each type and should alternate between responses, e.g.:\n",
        "* Positive responses: \"Great!\" \"Cool!\"\n",
        "* Negative responses: \"Too bad!\" \"Womp, womp!\"\n",
        "* Neutral responses: \"Hmm..\" \"I see.\"\n",
        "\n",
        "As before, there should be at least one way to end the conversation. You can make the ways to end the conversation known to the user in your earlier prompt or somewhere during the conversation. Add your updated code below."
      ]
    },
    {
      "cell_type": "code",
      "execution_count": null,
      "metadata": {
        "colab": {
          "base_uri": "https://localhost:8080/"
        },
        "id": "o1To2s1yIywW",
        "outputId": "46cbfa00-0d38-4499-d469-dad6f1cd4d5f"
      },
      "outputs": [
        {
          "name": "stdout",
          "output_type": "stream",
          "text": [
            "Hi, I am robot0, what is your name?A\n",
            "How are you?Ahmmm  not very good\n",
            "Great! Cool! Happy to know that!\n",
            "How do you do?Agood\n",
            "Great! Cool! Happy to know that!\n",
            "How are you?Abad\n",
            "Too bad! Sorry to hear about that!\n",
            "How was your day?Abad\n",
            "Too bad! Sorry to hear about that!\n",
            "How do you do?Agood bye\n",
            "Great! Cool! Happy to know that!\n",
            "How is everything going?Abye\n",
            "Goodbye!\n"
          ]
        }
      ],
      "source": [
        "\n",
        "## Simple ListenBot\n",
        "\n",
        "# TODO: Implement ListenBot by extending the barebones interactive chatbot\n",
        "\n",
        "# Use the positive and negative word lists below to make your ListenBot more effective\n",
        "\n",
        "# Note that we generate these lists from words in plain text files that you can find on\n",
        "# Canvas under Files. Upload them to your own notebook server.\n",
        "import random\n",
        "import pandas as pd\n",
        "\n",
        "positive = list(pd.read_csv(\"positive_words.txt\", header=0).iloc[:,0].values)\n",
        "negative = list(pd.read_csv(\"negative_words.txt\", header=0).iloc[:,0].values)\n",
        "question = ['How are you?','How is everything going?','How do you do?','How was your day?']\n",
        "positive_response = 'Great! Cool! Happy to know that!'\n",
        "negative_response = 'Too bad! Sorry to hear about that!'\n",
        "neutral_response = 'Hmmm.. I see.'\n",
        "\n",
        "user_name = input('Hi, I am robot0, what is your name?')\n",
        "\n",
        "while True:\n",
        "    content = input(question[random.randint(0,3)]+ user_name)\n",
        "    if content.lower() == \"bye\":\n",
        "        print('Goodbye!')\n",
        "        break\n",
        "    else:\n",
        "        wordlist = content.split()\n",
        "        negative_num = 0\n",
        "        positive_num = 0\n",
        "        for word in wordlist:\n",
        "            if word in positive:\n",
        "                positive_num += 1\n",
        "            elif word in negative:\n",
        "                negative_num += 1\n",
        "    \n",
        "        if positive_num - negative_num > 1:\n",
        "            print(positive_response)\n",
        "        elif negative_num - positive_num > 1:\n",
        "            print(negative_response)\n",
        "        elif positive_num - negative_num == 1 or positive_num - negative_num ==0:\n",
        "            print(neutral_response)\n",
        "       \n",
        "\n",
        "\n"
      ]
    },
    {
      "cell_type": "code",
      "execution_count": null,
      "metadata": {
        "id": "Yzh3Ba3mLwFS"
      },
      "outputs": [],
      "source": [
        "positive = list(pd.read_csv(\"positive_words.txt\", header=0).iloc[:,0].values)"
      ]
    },
    {
      "cell_type": "code",
      "execution_count": null,
      "metadata": {
        "id": "Xee39A_9LxZp"
      },
      "outputs": [],
      "source": [
        "len(positive)"
      ]
    },
    {
      "cell_type": "code",
      "execution_count": null,
      "metadata": {
        "id": "_7XEY3leLxp8"
      },
      "outputs": [],
      "source": [
        "negative = list(pd.read_csv(\"negative_words.txt\", header=0).iloc[:,0].values)"
      ]
    },
    {
      "cell_type": "code",
      "execution_count": null,
      "metadata": {
        "id": "4N9BoeGcL11g"
      },
      "outputs": [],
      "source": [
        "len(negative)"
      ]
    },
    {
      "cell_type": "markdown",
      "metadata": {
        "id": "7a8rC_G8MGDQ"
      },
      "source": [
        "### Step 3: Improved Listenbot\n",
        "\n",
        "Now test your chatbot with a classmate or friend. Based on breakdowns or awkwardness in these tests choose at least one additional improvement and implement it below. Make sure to descibe your improvement in the list below."
      ]
    },
    {
      "cell_type": "code",
      "execution_count": null,
      "metadata": {
        "colab": {
          "background_save": true,
          "base_uri": "https://localhost:8080/"
        },
        "id": "MD7KeIH1MIuv",
        "outputId": "e99528f4-febc-4ba6-a884-fb2d8b477c30"
      },
      "outputs": [
        {
          "name": "stdout",
          "output_type": "stream",
          "text": [
            "Great! Cool! Happy to know that!\n",
            "Hmmm.. I see.\n",
            "Hmmm.. I see.\n",
            "Great! Cool! Happy to know that!\n",
            "Too bad! Sorry to hear about that!\n"
          ]
        }
      ],
      "source": [
        "## Improved ListenBot\n",
        "\n",
        "# TODO: Implement improved ListenBot that addresses at least one breakdown of the original ListenBotb\n",
        "\n",
        "import random\n",
        "import pandas as pd\n",
        "from textblob import TextBlob\n",
        "\n",
        "positive = list(pd.read_csv(\"positive_words.txt\", header=0).iloc[:,0].values)\n",
        "negative = list(pd.read_csv(\"negative_words.txt\", header=0).iloc[:,0].values)\n",
        "question = ['How are you?','How is everything going?','How do you do?','How was your day?']\n",
        "positive_response = 'Great! Cool! Happy to know that!'\n",
        "negative_response = 'Too bad! Sorry to hear about that!'\n",
        "neutral_response = 'Hmmm.. I see.'\n",
        "\n",
        "user_name = input('Hi, I am robot0, what is your name?')\n",
        "\n",
        "while True:\n",
        "    content = input(question[random.randint(0,3)]+ user_name)\n",
        "    if \"bye\" in content.lower():\n",
        "        print('Goodbye!')\n",
        "        break\n",
        "    else:\n",
        "        sentiment = TextBlob(content).sentiment.polarity\n",
        "        if sentiment > 0.5:\n",
        "            print(positive_response.format(user_name))\n",
        "        elif sentiment < 0:\n",
        "            print(negative_response.format(user_name))\n",
        "        else:\n",
        "            print(neutral_response.format(user_name))\n",
        "        \n",
        "       "
      ]
    },
    {
      "cell_type": "markdown",
      "metadata": {
        "id": "fjHEMv-DMLYz"
      },
      "source": [
        "### List of Improvements\n",
        "Provide a list or table here in `markdown` containing the improvements you made and a brief description of why you made them.\n",
        "\n",
        "- Improved the way of ending the conversion, from input 'bye' to input content contains 'bye'.\n",
        "\n",
        "- Imported TextBlob. Used a pre-trained sentiment analysis model instead of counting positive and negative words"
      ]
    }
  ],
  "metadata": {
    "colab": {
      "provenance": [],
      "authorship_tag": "ABX9TyPPICw2BdcPknVjy1j2H5Kt",
      "include_colab_link": true
    },
    "kernelspec": {
      "display_name": "Python 3",
      "name": "python3"
    },
    "language_info": {
      "name": "python"
    }
  },
  "nbformat": 4,
  "nbformat_minor": 0
}